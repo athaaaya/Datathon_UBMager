{
  "nbformat": 4,
  "nbformat_minor": 0,
  "metadata": {
    "colab": {
      "provenance": []
    },
    "kernelspec": {
      "name": "python3",
      "display_name": "Python 3"
    },
    "language_info": {
      "name": "python"
    }
  },
  "cells": [
    {
      "cell_type": "markdown",
      "source": [
        "# Model Berbasis Expert System, Fuzzy Logic, dan Machine Learning untuk Menentukan Risiko Gagal Bayar Kredit"
      ],
      "metadata": {
        "id": "_HiZr5odWAjp"
      }
    },
    {
      "cell_type": "markdown",
      "source": [
        "IMPORT LIBRARY\n",
        "\n",
        "Meng-import semua library yang dibutuhkan, seperti numpy, pandas, xgboost, dll."
      ],
      "metadata": {
        "id": "ok8Bzx_pWEXl"
      }
    },
    {
      "cell_type": "code",
      "source": [
        "# MAKE SURE TO RESTART SESSION BEFORE RUNNING THE CODE TO AVOID LIBRARY ERROR (COLAB)\n",
        "# MAKE SURE DATASET IS UPLOADED IN COLAB\n",
        "\n",
        "# TO RUN IN GOOGLE COLAB\n",
        "!pip install pandas numpy scikit-learn imbalanced-learn xgboost shap matplotlib joblib --quiet\n",
        "!pip install git+https://github.com/omadson/fuzzy-c-means.git --quiet"
      ],
      "metadata": {
        "id": "Tt6Uc-m6em0A"
      },
      "execution_count": null,
      "outputs": []
    },
    {
      "cell_type": "code",
      "execution_count": 4,
      "metadata": {
        "id": "c9SAxsgJV4Yg"
      },
      "outputs": [],
      "source": [
        "# IMPORT LIBRARY\n",
        "import pandas as pd\n",
        "import numpy as np\n",
        "from sklearn.model_selection import train_test_split, cross_val_score\n",
        "from sklearn.preprocessing import LabelEncoder, MinMaxScaler\n",
        "from sklearn.metrics import classification_report, roc_auc_score\n",
        "from sklearn.ensemble import RandomForestClassifier, VotingClassifier\n",
        "from sklearn.linear_model import LogisticRegression\n",
        "from xgboost import XGBClassifier\n",
        "from imblearn.over_sampling import SMOTE\n",
        "from fcmeans import FCM\n",
        "import shap\n",
        "import matplotlib.pyplot as plt\n",
        "import joblib\n",
        "import warnings\n",
        "warnings.filterwarnings('ignore')\n",
        "\n",
        "# LOAD DATA\n",
        "df = pd.read_csv(\"credit_risk_dataset.csv\") # Make sure dataset is uploaded in Colab"
      ]
    },
    {
      "cell_type": "markdown",
      "source": [
        "ENCODING\n",
        "\n",
        "Mengubah status riwayat kredit macet dari huruf ('Y' = ya, 'N' = tidak) menjadi angka (1 = ya, 0 = tidak).\n",
        "\n",
        "FEATURE ENGINEERING\n",
        "\n",
        "* Membuat fitur baru bernama Aset Tetap, diambil langsung dari kolom Rumah yang telah diubah menjadi 0/1.\n",
        "* Menentukan apakah seseorang punya pekerjaan yang stabil (lama kerja ≥ 5 tahun)\n",
        "1 = stabil, 0 = tidak stabil\n",
        "* Menyalin kolom rasio pinjaman terhadap penghasilan agar namanya lebih mudah dipahami.\n",
        "\n",
        "DROP NaN\n",
        "\n",
        "Menghapus semua baris yang memiliki nilai kosong (NaN) karena metode SMOTE (untuk balancing data) dan model ML tidak bisa jalan kalau masih ada nilai kosong.\n"
      ],
      "metadata": {
        "id": "evx8Qi_fWHwH"
      }
    },
    {
      "cell_type": "code",
      "source": [
        "# ENCODING CATEGORICAL\n",
        "df['cb_person_default_on_file'] = df['cb_person_default_on_file'].map({'Y': 1, 'N': 0})\n",
        "df['person_home_ownership'] = df['person_home_ownership'].map(lambda x: 1 if x == 'OWN' else 0)\n",
        "\n",
        "# FEATURE ENGINEERING\n",
        "df['has_fixed_asset'] = df['person_home_ownership']\n",
        "df['stable_job'] = df['person_emp_length'].apply(lambda x: 1 if x >= 5 else 0)\n",
        "df['loan_to_income_ratio'] = df['loan_percent_income']\n",
        "\n",
        "# DROP NaN (Prevent SMOTE Error)\n",
        "df = df.dropna()"
      ],
      "metadata": {
        "id": "kzdTQGWkWKLH"
      },
      "execution_count": 5,
      "outputs": []
    },
    {
      "cell_type": "markdown",
      "source": [
        "SISTEM PAKAR (CERTAINTY FACTOR)\n",
        "\n",
        "Untuk meniru penilaian manusia dalam menilai apakah nasabah berpotensi gagal bayar atau tidak berdasarkan aturan pakar.\n",
        "*   cf_def: keyakinan bahwa nasabah akan default (gagal bayar)\n",
        "*   cf_non: keyakinan bahwa nasabah tidak akan default\n",
        "\n",
        "Jika Nasabah dianggap berisiko (CF default):\n",
        "1. Penghasilan kecil dan baru kerja\n",
        "2. Pernah macet dan tidak punya rumah\n",
        "3. Masih muda dan penghasilan kecil\n",
        "\n",
        "Jika Nasabah dianggap aman (CF non-default):\n",
        "1. Lama kerja dan tidak pernah macet\n",
        "2. Pendapatan tinggi dan pinjaman kecil\n",
        "3.  Punya rumah dan tidak macet\n",
        "\n",
        "CF_diff → selisih keyakinan default dan tidak default\n",
        "\n",
        "hasil_pakar → hasil klasifikasi pakar (0 = aman, 1 = gagal bayar)"
      ],
      "metadata": {
        "id": "mL-7GADsWMo3"
      }
    },
    {
      "cell_type": "code",
      "source": [
        "# EXPERT SYSTEM: CERTAINTY FACTOR\n",
        "def rule_cf(row):\n",
        "    cf_def, cf_non = [], []\n",
        "    if row['person_income'] < 4000 and row['person_emp_length'] < 1: cf_def.append(0.85)\n",
        "    if row['cb_person_default_on_file'] == 1 and row['has_fixed_asset'] == 0: cf_def.append(0.9)\n",
        "    if row['person_age'] < 25 and row['person_income'] < 3000: cf_def.append(0.6)\n",
        "\n",
        "    if row['person_emp_length'] >= 5 and row['cb_person_default_on_file'] == 0: cf_non.append(0.8)\n",
        "    if row['person_income'] > 8000 and row['loan_percent_income'] < 0.3: cf_non.append(0.7)\n",
        "    if row['has_fixed_asset'] == 1 and row['cb_person_default_on_file'] == 0: cf_non.append(0.75)\n",
        "\n",
        "    def combine(lst):\n",
        "        if not lst: return 0.0\n",
        "        cf = lst[0]\n",
        "        for val in lst[1:]:\n",
        "            cf += val * (1 - cf)\n",
        "        return round(cf, 4)\n",
        "\n",
        "    return combine(cf_def), combine(cf_non)\n",
        "\n",
        "df[['CF_default', 'CF_nondefault']] = df.apply(rule_cf, axis=1, result_type='expand')\n",
        "df['CF_diff'] = df['CF_default'] - df['CF_nondefault']\n",
        "df['expert_result'] = df['CF_default'].apply(lambda x: 1 if x >= 0.6 else 0)"
      ],
      "metadata": {
        "id": "sfq0IgasWOwl"
      },
      "execution_count": 6,
      "outputs": []
    },
    {
      "cell_type": "markdown",
      "source": [
        "FUZZY\n",
        "\n",
        "Untuk mengelompokkan nasabah ke dalam cluster lunak (tidak kaku) berdasarkan:\n",
        "*  Umur\n",
        "*  Penghasilan\n",
        "*  Lama Kerja\n",
        "\n",
        "Metode: Fuzzy C-Means (FCM) → tiap nasabah bisa berada di antara 2 cluster (dengan persentase keanggotaan)\n",
        "\n",
        "Outputnya: Cluster_Fuzzy = 0 atau 1, tapi secara internal FCM tahu bahwa seseorang bisa:\n",
        "\n",
        "60% masuk cluster risiko tinggi, 40% risiko rendah"
      ],
      "metadata": {
        "id": "ecEt3qsCWQk1"
      }
    },
    {
      "cell_type": "code",
      "source": [
        "# FUZZY CLUSTERING\n",
        "fcm = FCM(n_clusters=2, random_state=42)\n",
        "fcm.fit(df[['person_age', 'person_income', 'person_emp_length']].values)\n",
        "df['fuzzy_cluster'] = fcm.predict(df[['person_age', 'person_income', 'person_emp_length']].values)"
      ],
      "metadata": {
        "id": "R6nUi_xtWTFI"
      },
      "execution_count": 7,
      "outputs": []
    },
    {
      "cell_type": "markdown",
      "source": [
        "FITUR & TARGET\n",
        "\n",
        "* X = semua kolom fitur yang dipakai untuk memprediksi.\n",
        "* y = target/output, yaitu Default → 1 = gagal bayar, 0 = tidak gagal.\n",
        "\n",
        "SCALING + SMOTE\n",
        "\n",
        "* Scaling → Mengubah semua nilai fitur ke rentang [0, 1].\n",
        "* SMOTE → Teknik oversampling: membuat salinan sintetis dari kelas minoritas.\n",
        "\n",
        "SPLIT DATA\n",
        "\n",
        "* 70% → X_train dan y_train → untuk melatih model.\n",
        "* 30% → X_test dan y_test → untuk menguji performa model.\n",
        "\n"
      ],
      "metadata": {
        "id": "wxhApDguWVYh"
      }
    },
    {
      "cell_type": "code",
      "source": [
        "# FEATURES & TARGET\n",
        "features = [\n",
        "    'person_age', 'person_income', 'person_emp_length',\n",
        "    'loan_to_income_ratio', 'stable_job', 'has_fixed_asset',\n",
        "    'cb_person_default_on_file', 'CF_default', 'CF_nondefault', 'CF_diff',\n",
        "    'expert_result', 'fuzzy_cluster'\n",
        "]\n",
        "X = df[features]\n",
        "y = df['loan_status']\n",
        "\n",
        "# SCALING + SMOTE\n",
        "scaler = MinMaxScaler()\n",
        "X_scaled = pd.DataFrame(scaler.fit_transform(X), columns=X.columns)\n",
        "X_res, y_res = SMOTE(random_state=42).fit_resample(X_scaled, y)\n",
        "\n",
        "# SPLIT DATA (70% TRAIN & 30% TEST)\n",
        "X_train, X_test, y_train, y_test = train_test_split(X_res, y_res, test_size=0.3, random_state=42)"
      ],
      "metadata": {
        "id": "YJOXs5OJWU-M"
      },
      "execution_count": 8,
      "outputs": []
    },
    {
      "cell_type": "markdown",
      "source": [
        "MODEL MACHINE LEARNING\n",
        "\n",
        "* XGBClassifier: model gradient boosting yang sangat kuat.\n",
        "* RandomForestClassifier: model ensemble dari banyak decision tree.\n",
        "* LogisticRegression: model dasar\n",
        "* VotingClassifier: menggabungkan ketiganya (soft voting = rata-rata probabilitas).\n",
        "\n",
        "TRAINING & EVALUASI MODEL\n",
        "\n",
        "Menampilkan classification report:\n",
        "\n",
        "* Precision: ketepatan model (berapa banyak yang diprediksi gagal bayar yang benar-benar gagal).\n",
        "* Recall: seberapa banyak gagal bayar yang berhasil ditangkap model.\n",
        "* F1-Score: keseimbangan antara precision dan recall.\n",
        "* Accuracy: total yang diprediksi benar / total data.\n",
        "\n",
        "SHAP\n",
        "\n",
        "Menjelaskan kontribusi tiap fitur terhadap prediksi."
      ],
      "metadata": {
        "id": "zqOJv_1aWZt3"
      }
    },
    {
      "cell_type": "code",
      "source": [
        "# DEFINE MODEL (ML)\n",
        "xgb = XGBClassifier(eval_metric='logloss', random_state=42)\n",
        "rf = RandomForestClassifier(random_state=42)\n",
        "logreg = LogisticRegression(max_iter=1000)\n",
        "voting = VotingClassifier(estimators=[('xgb', xgb), ('rf', rf), ('logreg', logreg)], voting='soft')\n",
        "\n",
        "# TRAIN & EVALUATE\n",
        "for name, model in zip(['XGBoost', 'Random Forest', 'Logistic Regression', 'Voting'], [xgb, rf, logreg, voting]):\n",
        "    model.fit(X_train, y_train)\n",
        "    y_pred = model.predict(X_test)\n",
        "    y_proba = model.predict_proba(X_test)[:, 1]\n",
        "    auc = roc_auc_score(y_test, y_proba)\n",
        "    print(f\"\\n[{name} Report]\")\n",
        "    print(classification_report(y_test, y_pred))\n",
        "    print(f\"AUC {name}: {auc:.4f}\")\n",
        "\n",
        "# SHAP EXPLAINABILITY (XGBoost)\n",
        "explainer = shap.Explainer(xgb, X_train, feature_names=X.columns)\n",
        "shap_values = explainer(X_test[:50])\n",
        "shap.summary_plot(shap_values, X_test[:50], plot_type=\"bar\")\n",
        "\n",
        "# FINAL INSIGHT (BASED ON MODEL)\n",
        "print(\"\"\"\n",
        "\\n=== CREDIT RISK INSIGHT ===\n",
        "\n",
        "High Risk Profile:\n",
        "- Income < 4 million\n",
        "- Age < 25\n",
        "- Job tenure < 1 year\n",
        "- No home ownership\n",
        "- Has credit default history\n",
        "- High loan-to-income ratio (>60%)\n",
        "- Expert system concludes default\n",
        "\n",
        "Low Risk Profile:\n",
        "- Income > 8 million\n",
        "- Age > 30\n",
        "- Job tenure > 5 years\n",
        "- Has fixed asset (own house)\n",
        "- Good credit history\n",
        "- Low loan-to-income ratio (<30%)\n",
        "- Supported by expert system & fuzzy clustering\n",
        "\n",
        "\"\"\")"
      ],
      "metadata": {
        "id": "--jkeim_WgzT"
      },
      "execution_count": null,
      "outputs": []
    },
    {
      "cell_type": "markdown",
      "source": [
        "MENYIMPAN MODEL"
      ],
      "metadata": {
        "id": "IDFtuWwa_kUY"
      }
    },
    {
      "cell_type": "code",
      "source": [
        "# SAVE MODEL (ALL MODELS COMBINED = VotingClassifier)\n",
        "joblib.dump(voting, \"ubmager_model.pkl\", compress=3)\n",
        "print(\"Model saved as ubmager_model.pkl\")"
      ],
      "metadata": {
        "id": "MaFhLNBi_jHJ"
      },
      "execution_count": null,
      "outputs": []
    }
  ]
}